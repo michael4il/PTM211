{
  "nbformat": 4,
  "nbformat_minor": 0,
  "metadata": {
    "colab": {
      "name": "Playground_version7.ipynb",
      "provenance": [],
      "collapsed_sections": []
    },
    "kernelspec": {
      "name": "python3",
      "display_name": "Python 3"
    }
  },
  "cells": [
    {
      "cell_type": "markdown",
      "metadata": {
        "id": "J5gBDobjdLPc"
      },
      "source": [
        "Edge Detector from Assigmnet 3 - Question 2.<br>\r\n",
        "Shape Detector from Assigmnet 3 - Question 2."
      ]
    },
    {
      "cell_type": "code",
      "metadata": {
        "id": "Dtn9c8PFbeVp"
      },
      "source": [
        "# Imports\r\n",
        "import cv2\r\n",
        "import math\r\n",
        "import numpy as np\r\n",
        "from numpy.linalg import norm\r\n",
        "import matplotlib.pyplot as plt\r\n",
        "from scipy import signal\r\n",
        "import itertools\r\n",
        "\r\n",
        "def zipAll(arr1, arr2):\r\n",
        "    return list(itertools.product(arr1, arr2))\r\n",
        "\r\n",
        "figsize = (15, 5)\r\n",
        "\r\n",
        "# Print the full NumPy array\r\n",
        "import sys\r\n",
        "np.set_printoptions(threshold=sys.maxsize)"
      ],
      "execution_count": 1,
      "outputs": []
    },
    {
      "cell_type": "code",
      "metadata": {
        "colab": {
          "base_uri": "https://localhost:8080/",
          "height": 353
        },
        "id": "a8X_UC51cO7G",
        "outputId": "0a7c33c6-eae0-4f8a-e020-32d739717371"
      },
      "source": [
        "# Load the images in grayscale\r\n",
        "#path = \"justCircle.png\" # 100r\r\n",
        "#path = \"justCircleSmaller.png\" # 50r\r\n",
        "#path = \"justCircleSmallerSide.png\" # 50r\r\n",
        "#path = \"justCircles.png\"\r\n",
        "#path = \"justCircleInside.png\" # 29r 61r\r\n",
        "#path = \"justCircleInsideCenter.png\" # 29r 61r\r\n",
        "#path = \"justRad.png\" # 61r\r\n",
        "##########path  = \"justRectSmall.png\"\r\n",
        "path = \"Digital_all_labels.jpg\"\r\n",
        "#path = \"justRectangle.png\"\r\n",
        "#path = \"rects_circles.png\"\r\n",
        "#path = \"rects_circles_bigger.png\" # unrunnable, takes more than 20min\r\n",
        "#path = \"rects_circles_medium.png\"\r\n",
        "#path = \"why.png\"\r\n",
        "img = cv2.imread(path, cv2.IMREAD_GRAYSCALE)\r\n",
        "\r\n",
        "# Resize img to smaller size (while keeping the same scale)\r\n",
        "max_img_size = 200\r\n",
        "y_max, x_max = img.shape\r\n",
        "if y_max >= x_max:\r\n",
        "    if y_max > max_img_size:\r\n",
        "        scale = max_img_size / y_max\r\n",
        "        width = int(x_max * scale)\r\n",
        "        height = max_img_size # int(y_max * scale)\r\n",
        "        dim = (width, height)\r\n",
        "        img = cv2.resize(img, dim)\r\n",
        "else:\r\n",
        "    if x_max > max_img_size:\r\n",
        "        scale = max_img_size / x_max\r\n",
        "        width = max_img_size # int(x_max * scale)\r\n",
        "        height = int(y_max * scale)\r\n",
        "        dim = (width, height)\r\n",
        "        img = cv2.resize(img, dim)\r\n",
        "\r\n",
        "\r\n",
        "# Display image\r\n",
        "_, ax = plt.subplots(1, 1, figsize=figsize)\r\n",
        "ax.imshow(img, cmap='gray')\r\n",
        "ax.set_title(\"Original\")"
      ],
      "execution_count": null,
      "outputs": [
        {
          "output_type": "execute_result",
          "data": {
            "text/plain": [
              "Text(0.5, 1.0, 'Original')"
            ]
          },
          "metadata": {
            "tags": []
          },
          "execution_count": 91
        },
        {
          "output_type": "display_data",
          "data": {
            "image/png": "[encoded data removed]",
            "text/plain": [
              "<Figure size 1080x360 with 1 Axes>"
            ]
          },
          "metadata": {
            "tags": [],
            "needs_background": "light"
          }
        }
      ]
    },
    {
      "cell_type": "code",
      "metadata": {
        "id": "gA3PV6XKdTvR"
      },
      "source": [
        "# Blur the image\r\n",
        "blur_image = False\r\n",
        "\r\n",
        "if blur_image:\r\n",
        "    blur = cv2.blur(img, (5,5))\r\n",
        "    \r\n",
        "    # Display image\r\n",
        "    _, ax = plt.subplots(1, 1, figsize=figsize)\r\n",
        "    ax.imshow(blur, cmap='gray')\r\n",
        "    ax.set_title(\"Blur\")\r\n",
        "else:\r\n",
        "    blur = np.copy(img)"
      ],
      "execution_count": null,
      "outputs": []
    },
    {
      "cell_type": "code",
      "metadata": {
        "id": "k5fGxb0EdVLx"
      },
      "source": [
        "# Sharpen the image\r\n",
        "sharp_image = False\r\n",
        "\r\n",
        "if sharp_image:\r\n",
        "    sharp_kernel = np.array([\r\n",
        "        [-1, -1, -1],\r\n",
        "        [-1,  9, -1],\r\n",
        "        [-1, -1, -1],\r\n",
        "    ])\r\n",
        "    sharp = cv2.filter2D(blur, ddepth=cv2.CV_64F, kernel=sharp_kernel).astype(np.float)\r\n",
        "\r\n",
        "    # Display image\r\n",
        "    _, ax = plt.subplots(1, 1, figsize=figsize)\r\n",
        "    ax.imshow(sharp, cmap='gray')\r\n",
        "    ax.set_title(\"Sharp\")\r\n",
        "else:\r\n",
        "    sharp = np.copy(blur)"
      ],
      "execution_count": null,
      "outputs": []
    },
    {
      "cell_type": "code",
      "metadata": {
        "colab": {
          "base_uri": "https://localhost:8080/",
          "height": 353
        },
        "id": "Df4-cOV4cVT9",
        "outputId": "a04fbcd0-aed4-43db-a67e-0f23f9cb6315"
      },
      "source": [
        "# Edge Detector\r\n",
        "t1 = 20\r\n",
        "t2 = t1 * 3\r\n",
        "edges = cv2.Canny(sharp, t1, t2)\r\n",
        "# convert edges from image of (0s and 255s) to (0s and 1s).\r\n",
        "normalizer = lambda x: int(x / 255)\r\n",
        "edges = np.array([ [normalizer(rowCol) for rowCol in row] for row in edges])\r\n",
        "\r\n",
        "# Display image\r\n",
        "_, ax = plt.subplots(1, 1, figsize=figsize)\r\n",
        "ax.imshow(edges, cmap='gray')\r\n",
        "ax.set_title(\"Edge Detector\")"
      ],
      "execution_count": null,
      "outputs": [
        {
          "output_type": "execute_result",
          "data": {
            "text/plain": [
              "Text(0.5, 1.0, 'Edge Detector')"
            ]
          },
          "metadata": {
            "tags": []
          },
          "execution_count": 94
        },
        {
          "output_type": "display_data",
          "data": {
            "image/png": "[encoded data removed]",
            "text/plain": [
              "<Figure size 1080x360 with 1 Axes>"
            ]
          },
          "metadata": {
            "tags": [],
            "needs_background": "light"
          }
        }
      ]
    },
    {
      "cell_type": "code",
      "metadata": {
        "id": "n4vghYYYK__h"
      },
      "source": [
        "# Shape Detector\r\n",
        "detect_shapes = True\r\n",
        "detect_circles = True\r\n",
        "detect_rectangles = True\r\n",
        "\r\n",
        "threshold = 0.85 # a number between 0 and 1 (include edges)\r\n",
        "significant_digits = 2\r\n",
        "thickness = 10 # int bigger or equal to 2 ; How thick each kernel's shape will be\r\n",
        "\r\n",
        "def getImgIndex(kernel_max_size):\r\n",
        "    if kernel_max_size%2 == 0:\r\n",
        "        return int((kernel_max_size/2)-1)\r\n",
        "    else:\r\n",
        "        return int((kernel_max_size-1)/2)\r\n",
        "\r\n",
        "def overlapping_circles(center1, radius1, center2, radius2):\r\n",
        "    y1, x1 = center1\r\n",
        "    y2, x2 = center2\r\n",
        "    # More understandable equation: (radius1 + (thickness/2)) + (radius2 + (thickness/2)) > norm([y1-y2, x1-x2])\r\n",
        "    return radius1 + radius2 + thickness > norm([y1-y2, x1-x2])\r\n",
        "\r\n",
        "def overlapping_rectangles(center1, width1, height1, center2, width2, height2):\r\n",
        "    y1, x1 = center1\r\n",
        "    y2, x2 = center2\r\n",
        "    # More understandable equation: (height1/2 + thickness/2) + (height2/2 + thickness/2) > abs(y1 - y2) and (...)\r\n",
        "    return (height1 + height2 > 2 * (abs(y1 - y2) -  thickness)) and (width1 + width2 > 2 * (abs(x1 - x2) - thickness))\r\n",
        "\r\n",
        "def overlapping_rectangle_circle(center1, width1, height1, center2, radius2):\r\n",
        "    y1, x1 = center1\r\n",
        "    y2, x2 = center2\r\n",
        "    width1 += thickness\r\n",
        "    height1 += thickness\r\n",
        "    radius2 += thickness\r\n",
        "    \r\n",
        "    distance_x_axis = abs(x1 - x2)\r\n",
        "    distance_y_axis = abs(y1 - y2)\r\n",
        "    half_width1 = width1/2\r\n",
        "    half_height1 = height1/2\r\n",
        "\r\n",
        "    if distance_x_axis > half_width1 + radius2:\r\n",
        "        return False\r\n",
        "    elif distance_y_axis > half_height1 + radius2:\r\n",
        "        return False\r\n",
        "    elif distance_x_axis <= half_width1:\r\n",
        "        return True\r\n",
        "    elif distance_y_axis <= half_height1:\r\n",
        "        return True\r\n",
        "    else:\r\n",
        "        distance_corner = pow(distance_x_axis - half_width1, 2) + pow(distance_y_axis - half_height1, 2)\r\n",
        "        return distance_corner <= pow(radius2, 2)"
      ],
      "execution_count": null,
      "outputs": []
    },
    {
      "cell_type": "code",
      "metadata": {
        "colab": {
          "base_uri": "https://localhost:8080/",
          "height": 336
        },
        "id": "Bej3mvK8rohg",
        "outputId": "64c4be57-4e34-4363-bf68-f5d5f5e26f56"
      },
      "source": [
        "# Initializing result arrays for circles\r\n",
        "circles_center = []\r\n",
        "circles_radius = []\r\n",
        "circles_cover  = [] # Only used to compare between choosen shapes\r\n",
        "# Note: we utilizing the fact that we iterate the radii from smallest to biggest\r\n",
        "# thus, the inserted circles are always sorted by size. \r\n",
        "\r\n",
        "# Initializing result arrays for rectangles\r\n",
        "rectangles_center = []\r\n",
        "rectangles_width  = []\r\n",
        "rectangles_height = []\r\n",
        "rectangles_cover  = [] # Only used to compare between choosen shapes\r\n",
        "\r\n",
        "# Note about comparing overlapping shapes: we prefer the bigger (area) shape.\r\n",
        "\r\n",
        "y_max, x_max = img.shape\r\n",
        "edges_pad = np.pad(edges, thickness, mode='constant', constant_values=0)\r\n",
        "\r\n",
        "if detect_shapes:\r\n",
        "    # Detecting Circles\r\n",
        "    def insert_circle(center, radius, cover):\r\n",
        "        to_be_remove = []\r\n",
        "        \r\n",
        "        for index in range(len(circles_center)):\r\n",
        "            if overlapping_circles(center, radius, circles_center[index], circles_radius[index]):\r\n",
        "                if round(cover, significant_digits) >= round(circles_cover[index], significant_digits):\r\n",
        "                    # We found a circle that is worst than the current one\r\n",
        "                    # Note: we also include equal here, we chose to remove because\r\n",
        "                    # we iterate from smallest radius to biggest, and the current one\r\n",
        "                    # will also be bigger or equal than those in circles_radius,\r\n",
        "                    # so we prefer the bigger radius if possible.\r\n",
        "                    to_be_remove.append(index)\r\n",
        "                else:\r\n",
        "                    # We found a circle better than the current one,\r\n",
        "                    # no need to remove to_be_remove and no need to add current.\r\n",
        "                    return\r\n",
        "        \r\n",
        "        for index in reversed(to_be_remove):\r\n",
        "            del circles_center[index]\r\n",
        "            del circles_radius[index]\r\n",
        "            del circles_cover [index]\r\n",
        "        \r\n",
        "        circles_center.append(center)\r\n",
        "        circles_radius.append(radius)\r\n",
        "        circles_cover.append(cover)\r\n",
        "\r\n",
        "    # Circle radius that will be checked\r\n",
        "    radii = np.arange(int(math.ceil(thickness/2)), math.ceil(min(y_max,x_max) / 2), step=thickness + 1) if detect_circles else np.array([])\r\n",
        "    length = radii.shape[0]\r\n",
        "\r\n",
        "    for index in range(length):\r\n",
        "        # Current radius\r\n",
        "        radius = radii[index]\r\n",
        "\r\n",
        "        # Creating all the circle's kernels according to the range of radius\r\n",
        "        kernel_size = (2 * radius) + thickness\r\n",
        "        kernel_center = int(round(kernel_size/2))\r\n",
        "        kernel_off_set = (thickness%2) + 1\r\n",
        "        kernel = cv2.circle(\r\n",
        "                    np.zeros((kernel_size + kernel_off_set, kernel_size + kernel_off_set)),\r\n",
        "                    (kernel_center, kernel_center),\r\n",
        "                    radius,\r\n",
        "                    color=1,\r\n",
        "                    thickness=thickness)\r\n",
        "\r\n",
        "        # Calculating the circumferences of each circle\r\n",
        "        unique, counts = np.unique(kernel, return_counts=True)\r\n",
        "        zero_one_dict = dict(zip(unique, counts))\r\n",
        "        circumference = zero_one_dict[1] / thickness # This is approximation\r\n",
        "\r\n",
        "        # Compute the accumulator for each possible radius\r\n",
        "        hough = signal.convolve2d(edges_pad, kernel, mode='valid')\r\n",
        "\r\n",
        "        # Seaching for circles in current hough\r\n",
        "        y_dim,     x_dim     = hough.shape\r\n",
        "        y_max_ker, x_max_ker = kernel.shape\r\n",
        "        y_move = getImgIndex(y_max_ker) - thickness\r\n",
        "        x_move = getImgIndex(x_max_ker) - thickness\r\n",
        "        for y in range(y_dim):\r\n",
        "            for x in range(x_dim):\r\n",
        "                cover = min(1, hough[y][x] / circumference)\r\n",
        "                if cover > threshold:\r\n",
        "                    insert_circle((y_move+y, x_move+x), radius, cover)\r\n",
        "    \r\n",
        "    # Detecting Rectangles\r\n",
        "    def insert_rectangle(center, width, height, cover):\r\n",
        "        to_be_remove_circle    = []\r\n",
        "        to_be_remove_rectangle = []\r\n",
        "\r\n",
        "        for index in range(len(rectangles_center)):\r\n",
        "            if overlapping_rectangles(center, width, height, rectangles_center[index], rectangles_width[index], rectangles_height[index]):\r\n",
        "                if round(cover, significant_digits) >= round(rectangles_cover[index], significant_digits):\r\n",
        "                    if (width + thickness) * (height + thickness) >= (rectangles_width[index] + thickness) * (rectangles_height[index] + thickness):\r\n",
        "                        to_be_remove_rectangle.append(index)\r\n",
        "                    else:\r\n",
        "                        return\r\n",
        "                else:\r\n",
        "                    return\r\n",
        "        \r\n",
        "        for index in range(len(circles_center)):\r\n",
        "            if overlapping_rectangle_circle(center, width, height, circles_center[index], circles_radius[index]):\r\n",
        "                if round(cover, significant_digits) >= round(circles_cover[index], significant_digits):\r\n",
        "                    # More understandable equation:\r\n",
        "                    # (width + thickness) * (height + thickness) >= ((2 * circles_radius[index]) + thickness) * ((2 * circles_radius[index]) + thickness)\r\n",
        "                    if (width + thickness) * (height + thickness) >= math.pi * pow((circles_radius[index] + (thickness/2)), 2):\r\n",
        "                        to_be_remove_circle.append(index)\r\n",
        "                    else:\r\n",
        "                        return\r\n",
        "                else:\r\n",
        "                    return\r\n",
        "\r\n",
        "        for index in reversed(to_be_remove_circle):\r\n",
        "            del circles_center[index]\r\n",
        "            del circles_radius[index]\r\n",
        "            del circles_cover [index]\r\n",
        "        \r\n",
        "        for index in reversed(to_be_remove_rectangle):\r\n",
        "            del rectangles_center[index]\r\n",
        "            del rectangles_width [index]\r\n",
        "            del rectangles_height[index]\r\n",
        "            del rectangles_cover [index]\r\n",
        "        \r\n",
        "        rectangles_center.append(center)\r\n",
        "        rectangles_width.append(width)\r\n",
        "        rectangles_height.append(height)\r\n",
        "        rectangles_cover.append(cover)\r\n",
        "    \r\n",
        "    # Rectangle width and height that will be checked\r\n",
        "    widths  = np.arange((2 * int(math.ceil(thickness/2))) + 1, x_max, step=(thickness * 2) + 2) if detect_rectangles else np.array([])\r\n",
        "    heights = np.arange((2 * int(math.ceil(thickness/2))) + 1, y_max, step=(thickness * 2) + 2) if detect_rectangles else np.array([])\r\n",
        "    sizes = zipAll(widths, heights)\r\n",
        "    length = len(sizes)\r\n",
        "\r\n",
        "    for index in range(length):\r\n",
        "        # Current width and height\r\n",
        "        width, height = sizes[index]\r\n",
        "\r\n",
        "        # Creating all the rectangle's kernels according to the range of width and height\r\n",
        "        off_set = int(math.ceil(thickness/2))\r\n",
        "        kernel = cv2.rectangle(\r\n",
        "                    np.zeros((thickness + height + (thickness%2) + 1, thickness + width + (thickness%2) + 1)),\r\n",
        "                    (off_set, off_set),\r\n",
        "                    (off_set + width, off_set + height),\r\n",
        "                    color=1,\r\n",
        "                    thickness=thickness)\r\n",
        "\r\n",
        "        # Calculating the circumferences of each circle\r\n",
        "        unique, counts = np.unique(kernel, return_counts=True)\r\n",
        "        zero_one_dict = dict(zip(unique, counts))\r\n",
        "        circumference = zero_one_dict[1] / thickness # This is approximation\r\n",
        "\r\n",
        "        # Compute the accumulator for each possible width/height\r\n",
        "        hough = signal.convolve2d(edges_pad, kernel, mode='valid')\r\n",
        "\r\n",
        "        # Seaching for rectangles in current hough\r\n",
        "        y_dim,     x_dim     = hough.shape\r\n",
        "        y_max_ker, x_max_ker = kernel.shape\r\n",
        "        y_move = getImgIndex(y_max_ker) - thickness\r\n",
        "        x_move = getImgIndex(x_max_ker) - thickness\r\n",
        "        for y in range(y_dim):\r\n",
        "            for x in range(x_dim):\r\n",
        "                cover = min(1, hough[y][x] / circumference)\r\n",
        "                if cover > threshold:\r\n",
        "                    insert_rectangle((y_move+y, x_move+x), width, height, cover)\r\n",
        "\r\n",
        "# Display image\r\n",
        "_, ax = plt.subplots(1, 1, figsize=figsize)\r\n",
        "ax.imshow(edges, cmap='gray')\r\n",
        "ax.set_title(\"Detected Shapes\")\r\n",
        "\r\n",
        "if detect_shapes:\r\n",
        "    # mark the center of the circles by a yellow point\r\n",
        "    ax.plot([tpl[1] for tpl in circles_center], [tpl[0] for tpl in circles_center], 'o', color='yellow')\r\n",
        "    # draw the circumference of the circles in blue\r\n",
        "    for (y, x), radius in zip(circles_center, circles_radius):\r\n",
        "        circ = plt.Circle((x, y), radius + (thickness/2), color='yellow', fill=False)\r\n",
        "        ax.add_artist(circ)\r\n",
        "    \r\n",
        "    # mark the center of the rectangles by a red point\r\n",
        "    ax.plot([tpl[1] for tpl in rectangles_center],[tpl[0] for tpl in rectangles_center], 'o', color='red')\r\n",
        "    # draw the circumference of the rectangles in green\r\n",
        "    for (y, x), width, height in zip(rectangles_center, rectangles_width, rectangles_height):\r\n",
        "        dx = (width + thickness)/2\r\n",
        "        dy = (height + thickness)/2\r\n",
        "        rect = plt.Rectangle((x-dx, y-dy), width + thickness, height + thickness, 0.0, color='red', fill=False) # buttom-left, but look like top-left.\r\n",
        "        ax.add_artist(rect)"
      ],
      "execution_count": null,
      "outputs": [
        {
          "output_type": "display_data",
          "data": {
            "image/png": "[encoded data removed]",
            "text/plain": [
              "<Figure size 1080x360 with 1 Axes>"
            ]
          },
          "metadata": {
            "tags": [],
            "needs_background": "light"
          }
        }
      ]
    },
    {
      "cell_type": "code",
      "metadata": {
        "colab": {
          "base_uri": "https://localhost:8080/"
        },
        "id": "AFK0ibh61P4C",
        "outputId": "6d71c4d1-e197-44bd-afac-ce6d63e42a5f"
      },
      "source": [
        "print(\"================================ Circles =================================\")\r\n",
        "for (y, x), radius, cover in zip(circles_center, circles_radius, circles_cover):\r\n",
        "  print(\"Coordinate:\",(y, x),\"\\t\\tRadius:\", radius, \"\\t\\t\\tCover:\", cover)\r\n",
        "\r\n",
        "print(\"=============================== Rectangles ===============================\")\r\n",
        "for (y, x), width, height, cover in zip(rectangles_center, rectangles_width, rectangles_height, rectangles_cover):\r\n",
        "  print(\"Coordinate:\",(y, x), \"\\t\\tWidth:\",width, \"\\tHeight:\",height, \"\\tCover:\", cover)"
      ],
      "execution_count": null,
      "outputs": [
        {
          "output_type": "stream",
          "text": [
            "================================ Circles =================================\n",
            "Coordinate: (158, 56) \t\tRadius: 38 \t\t\tCover: 1\n",
            "=============================== Rectangles ===============================\n",
            "Coordinate: (50, 66) \t\tWidth: 33 \tHeight: 77 \tCover: 0.9957983193277311\n"
          ],
          "name": "stdout"
        }
      ]
    },
    {
      "cell_type": "code",
      "metadata": {
        "colab": {
          "base_uri": "https://localhost:8080/",
          "height": 353
        },
        "id": "vOnN23EtKiil",
        "outputId": "7164f9bb-c520-4ba3-9568-36c1977302c9"
      },
      "source": [
        "radius = 5\r\n",
        "thickness = 10\r\n",
        "\r\n",
        "kernel_size = (2 * radius) + thickness\r\n",
        "kernel_center = int(round(kernel_size/2))\r\n",
        "kernel_off_set = (thickness%2) + 1\r\n",
        "kernel = cv2.circle(\r\n",
        "            np.zeros((kernel_size + kernel_off_set, kernel_size + kernel_off_set)),\r\n",
        "            (kernel_center, kernel_center),\r\n",
        "            radius,\r\n",
        "            color=1,\r\n",
        "            thickness=thickness)\r\n",
        "\r\n",
        "_, ax = plt.subplots(1, 1, figsize=figsize)\r\n",
        "ax.imshow(kernel, cmap='gray')\r\n",
        "ax.set_title(\"Detected Shapes\")"
      ],
      "execution_count": 7,
      "outputs": [
        {
          "output_type": "execute_result",
          "data": {
            "text/plain": [
              "Text(0.5, 1.0, 'Detected Shapes')"
            ]
          },
          "metadata": {
            "tags": []
          },
          "execution_count": 7
        },
        {
          "output_type": "display_data",
          "data": {
            "image/png": "[encoded data removed]",
            "text/plain": [
              "<Figure size 1080x360 with 1 Axes>"
            ]
          },
          "metadata": {
            "tags": [],
            "needs_background": "light"
          }
        }
      ]
    },
    {
      "cell_type": "code",
      "metadata": {
        "id": "KDqrp1fNLQbb"
      },
      "source": [
        ""
      ],
      "execution_count": null,
      "outputs": []
    },
    {
      "cell_type": "code",
      "metadata": {
        "id": "pyQZKsA0jc4A"
      },
      "source": [
        "# Ideas:\r\n",
        "# * Instead of making bigger and bigger kernels, we make the image smaller and smaller, and keep applying the same kernel.\r\n",
        "# * Dynamic thickness depending on the size of the shape (atm I don't think it will help)."
      ],
      "execution_count": null,
      "outputs": []
    },
    {
      "cell_type": "code",
      "metadata": {
        "colab": {
          "base_uri": "https://localhost:8080/"
        },
        "id": "y6gp99MGQfZC",
        "outputId": "9725c6e6-2f5d-445f-f386-a30a03a59077"
      },
      "source": [
        "y1 = 77\r\n",
        "x1 = 100\r\n",
        "width = 11\r\n",
        "height = 11\r\n",
        "cover1 = 0.8558558558558559\r\n",
        "\r\n",
        "y2 = 99\r\n",
        "x2 = 140\r\n",
        "radius = 38\r\n",
        "cover2 = 1\r\n",
        "\r\n",
        "print(overlapping_rectangle_circle((y1, x1), width, height, (y2, x2), radius))\r\n",
        "print(round(cover1, significant_digits) >= round(cover2, significant_digits))\r\n",
        "print((width + thickness) * (height + thickness) >= math.pi * pow((radius + (thickness/2)), 2))"
      ],
      "execution_count": null,
      "outputs": [
        {
          "output_type": "stream",
          "text": [
            "True\n",
            "False\n",
            "False\n"
          ],
          "name": "stdout"
        }
      ]
    }
  ]
}