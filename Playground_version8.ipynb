{
  "nbformat": 4,
  "nbformat_minor": 0,
  "metadata": {
    "colab": {
      "name": "Playground_version8.ipynb",
      "provenance": [],
      "collapsed_sections": []
    },
    "kernelspec": {
      "name": "python3",
      "display_name": "Python 3"
    }
  },
  "cells": [
    {
      "cell_type": "markdown",
      "metadata": {
        "id": "4MResaYAx4wm"
      },
      "source": [
        "Edge Detector from Assigmnet 3 - Question 2.<br>\r\n",
        "Shape Detector from Assigmnet 3 - Question 2."
      ]
    },
    {
      "cell_type": "code",
      "metadata": {
        "id": "KUW9LvpOxxEg"
      },
      "source": [
        "# Imports\r\n",
        "import cv2\r\n",
        "import math\r\n",
        "import numpy as np\r\n",
        "from numpy.linalg import norm\r\n",
        "import matplotlib.pyplot as plt\r\n",
        "from scipy import signal\r\n",
        "import itertools\r\n",
        "\r\n",
        "def zipAll(arr1, arr2):\r\n",
        "    return list(itertools.product(arr1, arr2))\r\n",
        "\r\n",
        "figsize = (15, 5)\r\n",
        "\r\n",
        "# Print the full NumPy array\r\n",
        "import sys\r\n",
        "np.set_printoptions(threshold=sys.maxsize)"
      ],
      "execution_count": 19,
      "outputs": []
    },
    {
      "cell_type": "code",
      "metadata": {
        "id": "xOMHeaalx8Ri",
        "colab": {
          "base_uri": "https://localhost:8080/",
          "height": 353
        },
        "outputId": "23052120-913b-4860-8a2c-f9b774d8197c"
      },
      "source": [
        "# Load the images in grayscale\r\n",
        "path = \"justCircleHuge.png\"\r\n",
        "#path = \"justCircle.png\" # 100r\r\n",
        "#path = \"justCircleSmaller.png\" # 50r\r\n",
        "#path = \"justCircleSmallerSide.png\" # 50r\r\n",
        "#path = \"justCircles.png\"\r\n",
        "#path = \"justCircleInside.png\" # 29r 61r\r\n",
        "#path = \"justCircleInsideCenter.png\" # 29r 61r\r\n",
        "#path = \"justRad.png\" # 61r\r\n",
        "#path  = \"justRectSmall.png\"\r\n",
        "#path = \"Digital_all_labels.jpg\"\r\n",
        "#path = \"Digital_all_labels_circle.jpg\"\r\n",
        "#path = \"justRectangle.png\"\r\n",
        "#path = \"rects_circles.png\"\r\n",
        "#path = \"rects_circles_bigger.png\" # unrunnable, takes more than 20min\r\n",
        "#path = \"rects_circles_medium.png\"\r\n",
        "#path = \"why.png\"\r\n",
        "img = cv2.imread(path, cv2.IMREAD_GRAYSCALE)\r\n",
        "\r\n",
        "# Resize img to smaller size (while keeping the same scale)\r\n",
        "scale_img = False\r\n",
        "max_img_size = 200\r\n",
        "\r\n",
        "if scale_img:\r\n",
        "    y_max, x_max = img.shape\r\n",
        "    if y_max >= x_max:\r\n",
        "        if y_max > max_img_size:\r\n",
        "            scale = max_img_size / y_max\r\n",
        "            width = int(x_max * scale)\r\n",
        "            height = max_img_size # int(y_max * scale)\r\n",
        "            dim = (width, height)\r\n",
        "            img = cv2.resize(img, dim)\r\n",
        "    else:\r\n",
        "        if x_max > max_img_size:\r\n",
        "            scale = max_img_size / x_max\r\n",
        "            width = max_img_size # int(x_max * scale)\r\n",
        "            height = int(y_max * scale)\r\n",
        "            dim = (width, height)\r\n",
        "            img = cv2.resize(img, dim)\r\n",
        "\r\n",
        "# Display image\r\n",
        "_, ax = plt.subplots(1, 1, figsize=figsize)\r\n",
        "ax.imshow(img, cmap='gray')\r\n",
        "ax.set_title(\"Original\")"
      ],
      "execution_count": 20,
      "outputs": [
        {
          "output_type": "execute_result",
          "data": {
            "text/plain": [
              "Text(0.5, 1.0, 'Original')"
            ]
          },
          "metadata": {
            "tags": []
          },
          "execution_count": 20
        },
        {
          "output_type": "display_data",
          "data": {
            "image/png": "[encoded data removed]",
            "text/plain": [
              "<Figure size 1080x360 with 1 Axes>"
            ]
          },
          "metadata": {
            "tags": [],
            "needs_background": "light"
          }
        }
      ]
    },
    {
      "cell_type": "code",
      "metadata": {
        "id": "NFeBmPFxx8O1"
      },
      "source": [
        "# Blur the image\r\n",
        "blur_image = False\r\n",
        "\r\n",
        "if blur_image:\r\n",
        "    blur = cv2.blur(img, (5,5))\r\n",
        "    \r\n",
        "    # Display image\r\n",
        "    _, ax = plt.subplots(1, 1, figsize=figsize)\r\n",
        "    ax.imshow(blur, cmap='gray')\r\n",
        "    ax.set_title(\"Blur\")\r\n",
        "else:\r\n",
        "    blur = np.copy(img)"
      ],
      "execution_count": 21,
      "outputs": []
    },
    {
      "cell_type": "code",
      "metadata": {
        "id": "xTYQxWTIx8MQ"
      },
      "source": [
        "# Sharpen the image\r\n",
        "sharp_image = False\r\n",
        "\r\n",
        "if sharp_image:\r\n",
        "    sharp_kernel = np.array([\r\n",
        "        [-1, -1, -1],\r\n",
        "        [-1,  9, -1],\r\n",
        "        [-1, -1, -1],\r\n",
        "    ])\r\n",
        "    sharp = cv2.filter2D(blur, ddepth=cv2.CV_64F, kernel=sharp_kernel).astype(np.float)\r\n",
        "\r\n",
        "    # Display image\r\n",
        "    _, ax = plt.subplots(1, 1, figsize=figsize)\r\n",
        "    ax.imshow(sharp, cmap='gray')\r\n",
        "    ax.set_title(\"Sharp\")\r\n",
        "else:\r\n",
        "    sharp = np.copy(blur)"
      ],
      "execution_count": 22,
      "outputs": []
    },
    {
      "cell_type": "code",
      "metadata": {
        "id": "gJynB2wMx8Jp",
        "colab": {
          "base_uri": "https://localhost:8080/",
          "height": 353
        },
        "outputId": "a1bd4e1e-693c-42b9-c8e2-42e5f78d4827"
      },
      "source": [
        "# Edge Detector\r\n",
        "t1 = 20\r\n",
        "t2 = t1 * 3\r\n",
        "edges = cv2.Canny(sharp, t1, t2)\r\n",
        "# convert edges from image of (0s and 255s) to (0s and 1s).\r\n",
        "normalizer = lambda x: (x / 255)\r\n",
        "edges = np.array([ [normalizer(rowCol) for rowCol in row] for row in edges])\r\n",
        "\r\n",
        "# Display image\r\n",
        "_, ax = plt.subplots(1, 1, figsize=figsize)\r\n",
        "ax.imshow(edges, cmap='gray')\r\n",
        "ax.set_title(\"Edge Detector\")"
      ],
      "execution_count": 23,
      "outputs": [
        {
          "output_type": "execute_result",
          "data": {
            "text/plain": [
              "Text(0.5, 1.0, 'Edge Detector')"
            ]
          },
          "metadata": {
            "tags": []
          },
          "execution_count": 23
        },
        {
          "output_type": "display_data",
          "data": {
            "image/png": "[encoded data removed]",
            "text/plain": [
              "<Figure size 1080x360 with 1 Axes>"
            ]
          },
          "metadata": {
            "tags": [],
            "needs_background": "light"
          }
        }
      ]
    },
    {
      "cell_type": "code",
      "metadata": {
        "id": "Z6JQ49IKx8Gw"
      },
      "source": [
        "# Shape Detector\r\n",
        "detect_shapes = True\r\n",
        "detect_circles = True\r\n",
        "detect_rectangles = False\r\n",
        "\r\n",
        "threshold = 0.10 # a number between 0 and 1 (include edges)\r\n",
        "significant_digits = 2\r\n",
        "scale_interval = 0.01\r\n",
        "interval_digits = 2\r\n",
        "\r\n",
        "def getImgIndex(kernel_max_size):\r\n",
        "    if kernel_max_size%2 == 0:\r\n",
        "        return int((kernel_max_size/2)-1)\r\n",
        "    else:\r\n",
        "        return int((kernel_max_size-1)/2)\r\n",
        "\r\n",
        "def overlapping_circles(center1, radius1, center2, radius2):\r\n",
        "    y1, x1 = center1\r\n",
        "    y2, x2 = center2\r\n",
        "    return radius1 + radius2 > norm([y1-y2, x1-x2])\r\n",
        "\r\n",
        "def overlapping_rectangles(center1, width1, height1, center2, width2, height2):\r\n",
        "    y1, x1 = center1\r\n",
        "    y2, x2 = center2\r\n",
        "    # More understandable equation: (height1/2) + (height2/2) > abs(y1 - y2) and (...)\r\n",
        "    return (height1 + height2 > 2 * abs(y1 - y2)) and (width1 + width2 > 2 * abs(x1 - x2))\r\n",
        "\r\n",
        "def overlapping_rectangle_circle(center1, width1, height1, center2, radius2):\r\n",
        "    y1, x1 = center1\r\n",
        "    y2, x2 = center2\r\n",
        "    \r\n",
        "    distance_x_axis = abs(x1 - x2)\r\n",
        "    distance_y_axis = abs(y1 - y2)\r\n",
        "    half_width1 = width1/2\r\n",
        "    half_height1 = height1/2\r\n",
        "\r\n",
        "    if distance_x_axis > half_width1 + radius2:\r\n",
        "        return False\r\n",
        "    elif distance_y_axis > half_height1 + radius2:\r\n",
        "        return False\r\n",
        "    elif distance_x_axis <= half_width1:\r\n",
        "        return True\r\n",
        "    elif distance_y_axis <= half_height1:\r\n",
        "        return True\r\n",
        "    else:\r\n",
        "        distance_corner = pow(distance_x_axis - half_width1, 2) + pow(distance_y_axis - half_height1, 2)\r\n",
        "        return distance_corner <= pow(radius2, 2)"
      ],
      "execution_count": 24,
      "outputs": []
    },
    {
      "cell_type": "code",
      "metadata": {
        "id": "WlBiX-Dzx8Dn",
        "colab": {
          "base_uri": "https://localhost:8080/",
          "height": 336
        },
        "outputId": "1e4c00f0-a2f2-41b6-d71d-33c9667b3a18"
      },
      "source": [
        "# Initializing result arrays for circles\r\n",
        "circles_center = []\r\n",
        "circles_radius = []\r\n",
        "circles_cover  = [] # Only used to compare between choosen shapes\r\n",
        "circles_scale  = [] # For debugging only.\r\n",
        "\r\n",
        "# Initializing result arrays for rectangles\r\n",
        "rectangles_center = []\r\n",
        "rectangles_width  = []\r\n",
        "rectangles_height = []\r\n",
        "rectangles_cover  = [] # Only used to compare between choosen shapes\r\n",
        "rectangles_scale  = [] # For debugging only.\r\n",
        "\r\n",
        "# Note about comparing overlapping shapes: we prefer the bigger (area) shape.\r\n",
        "\r\n",
        "def insert_circle(scale, center, radius, cover):\r\n",
        "    to_be_remove = []\r\n",
        "    \r\n",
        "    for index in range(len(circles_center)):\r\n",
        "        if overlapping_circles(center, radius, circles_center[index], circles_radius[index]):\r\n",
        "            if round(cover, significant_digits) >= round(circles_cover[index], significant_digits):\r\n",
        "                # We found a circle that is worst than the current one\r\n",
        "                # Note: we also include equal here, we chose to remove because\r\n",
        "                # we iterate from smallest radius to biggest, and the current one\r\n",
        "                # will also be bigger or equal than those in circles_radius,\r\n",
        "                # so we prefer the bigger radius if possible.\r\n",
        "                to_be_remove.append(index)\r\n",
        "            else:\r\n",
        "                # We found a circle better than the current one,\r\n",
        "                # no need to remove to_be_remove and no need to add current.\r\n",
        "                return\r\n",
        "    \r\n",
        "    for index in reversed(to_be_remove):\r\n",
        "        del circles_center[index]\r\n",
        "        del circles_radius[index]\r\n",
        "        del circles_cover [index]\r\n",
        "        del circles_scale [index]\r\n",
        "    \r\n",
        "    circles_center.append(center)\r\n",
        "    circles_radius.append(radius)\r\n",
        "    circles_cover.append(cover)\r\n",
        "    circles_scale.append(scale)\r\n",
        "\r\n",
        "if detect_shapes:\r\n",
        "    y_max, x_max = edges.shape\r\n",
        "\r\n",
        "    # Detecting Circles\r\n",
        "    radius = 25 # Minimum radius that will be checked\r\n",
        "    # TODO: choose a dynamic min_radius according to the original image size\r\n",
        "\r\n",
        "    # Creating the circle's kernel\r\n",
        "    kernel_size = (2 * radius) + 1\r\n",
        "    kernel_center = int(kernel_size/2)\r\n",
        "    kernel = cv2.circle(\r\n",
        "                np.zeros((kernel_size, kernel_size)),\r\n",
        "                (kernel_center, kernel_center),\r\n",
        "                radius,\r\n",
        "                color=1,\r\n",
        "                thickness=1)\r\n",
        "    y_max_ker, x_max_ker = kernel.shape\r\n",
        "    \r\n",
        "    # Calculating the circumferences of each circle\r\n",
        "    unique, counts = np.unique(kernel, return_counts=True)\r\n",
        "    zero_one_dict = dict(zip(unique, counts))\r\n",
        "    circumference = zero_one_dict[1]\r\n",
        "    # Note: this isn't equal to 2*math.pi*radius\r\n",
        "\r\n",
        "    # Max radius that can be found in the image: round(min(y_max,x_max) / 2)\r\n",
        "    # So we need to scale kernel by: round(min(y_max,x_max) / 2) / radius\r\n",
        "    # So we need to scale the img by: 1 / (round(min(y_max,x_max) / 2) / radius)\r\n",
        "    max_scale = radius / round(min(y_max, x_max) / 2)\r\n",
        "    # Rounding up\r\n",
        "    temp = pow(10, interval_digits)\r\n",
        "    max_scale = (int(max_scale * temp) + 1) / temp\r\n",
        "\r\n",
        "    # Iterating each scale, from biggest to smallest.\r\n",
        "    for scale in np.linspace(1, 0, int(1/scale_interval) + 1):\r\n",
        "        if scale < max_scale:\r\n",
        "            break\r\n",
        "        scale = round(scale, interval_digits) # removing round errors\r\n",
        "\r\n",
        "        # Scaling the image\r\n",
        "        x_max_scale = int(x_max * scale)\r\n",
        "        y_max_scale = int(y_max * scale)\r\n",
        "        dim = (x_max_scale, y_max_scale)\r\n",
        "        edges_scale = cv2.resize(edges, dim, interpolation=cv2.INTER_AREA)\r\n",
        "        ceiler = lambda x: float(math.ceil(x))\r\n",
        "        edges_scale = np.array([ [ceiler(rowCol) for rowCol in row] for row in edges_scale])\r\n",
        "\r\n",
        "        if y_max_scale < y_max_ker or x_max_scale < x_max_ker:\r\n",
        "            break\r\n",
        "\r\n",
        "        # Compute the accumulator for each possible radius\r\n",
        "        hough = signal.convolve2d(edges_scale, kernel, mode='valid')\r\n",
        "\r\n",
        "        # Seaching for circles in current hough\r\n",
        "        reverse_scale = 1 / scale\r\n",
        "        y_dim,     x_dim     = hough.shape # getting smaller and smaller with each iteration\r\n",
        "        y_move = getImgIndex(y_max_ker)\r\n",
        "        x_move = getImgIndex(x_max_ker)\r\n",
        "        for y in range(y_dim):\r\n",
        "            for x in range(x_dim):\r\n",
        "                cover = hough[y][x] / circumference\r\n",
        "                if cover > threshold:\r\n",
        "                    insert_circle(scale, ((y_move+y) * reverse_scale, (x_move+x) * reverse_scale), radius * reverse_scale, cover)\r\n",
        "\r\n",
        "# Display image\r\n",
        "_, ax = plt.subplots(1, 1, figsize=figsize)\r\n",
        "ax.imshow(edges, cmap='gray')\r\n",
        "ax.set_title(\"Detected Shapes\")\r\n",
        "\r\n",
        "if detect_shapes:\r\n",
        "    # mark the center of the circles by a yellow point\r\n",
        "    ax.plot([tpl[1] for tpl in circles_center], [tpl[0] for tpl in circles_center], 'o', color='yellow')\r\n",
        "    # draw the circumference of the circles in blue\r\n",
        "    for (y, x), radius in zip(circles_center, circles_radius):\r\n",
        "        circ = plt.Circle((x, y), radius, color='yellow', fill=False)\r\n",
        "        ax.add_artist(circ)"
      ],
      "execution_count": 25,
      "outputs": [
        {
          "output_type": "display_data",
          "data": {
            "image/png": "[encoded data removed]",
            "text/plain": [
              "<Figure size 1080x360 with 1 Axes>"
            ]
          },
          "metadata": {
            "tags": [],
            "needs_background": "light"
          }
        }
      ]
    },
    {
      "cell_type": "code",
      "metadata": {
        "colab": {
          "base_uri": "https://localhost:8080/"
        },
        "id": "XAGPyAkq2PXy",
        "outputId": "ed5c8e4d-401f-470e-8a05-44f34fa0fc72"
      },
      "source": [
        "print(\"============================================================================== Circles ==============================================================================\")\r\n",
        "for (y, x), radius, cover, scale in zip(circles_center, circles_radius, circles_cover, circles_scale):\r\n",
        "    print(\"Scale: %.2f\\tCoordinate: (%19.15f,%19.15f)\\tRadius: %19.15f\\tCover: %.52f\" % (scale, y, x, radius, cover))\r\n",
        "\r\n",
        "print(\"============================================================================ Rectangles =============================================================================\")\r\n",
        "for (y, x), width, height, cover, scale in zip(rectangles_center, rectangles_width, rectangles_height, rectangles_cover, rectangles_scale):\r\n",
        "    print(\"Scale: %.2f\\tCoordinate: (%19.15f,%19.15f)\\tWidth: %19.15f\\tHeight: %19.15f\\tCover: %.52f\" % (scale, y, x, width, height, cover))"
      ],
      "execution_count": 26,
      "outputs": [
        {
          "output_type": "stream",
          "text": [
            "============================================================================== Circles ==============================================================================\n",
            "Scale: 0.18\tCoordinate: (155.555555555555543,155.555555555555543)\tRadius: 138.888888888888886\tCover: 0.2571428571428571174806165799964219331741333007812500\n",
            "============================================================================ Rectangles =============================================================================\n"
          ],
          "name": "stdout"
        }
      ]
    },
    {
      "cell_type": "code",
      "metadata": {
        "colab": {
          "base_uri": "https://localhost:8080/",
          "height": 336
        },
        "id": "ufDnKBZ70XmM",
        "outputId": "dd8e770b-06a3-4b7f-a0e0-278db65734c1"
      },
      "source": [
        "\r\n",
        "# Initializing result arrays for circles\r\n",
        "circles_center = []\r\n",
        "circles_radius = []\r\n",
        "circles_cover  = [] # Only used to compare between choosen shapes\r\n",
        "circles_scale  = [] # For debugging only.\r\n",
        "\r\n",
        "# Initializing result arrays for rectangles\r\n",
        "rectangles_center = []\r\n",
        "rectangles_width  = []\r\n",
        "rectangles_height = []\r\n",
        "rectangles_cover  = [] # Only used to compare between choosen shapes\r\n",
        "rectangles_scale  = [] # For debugging only.\r\n",
        "\r\n",
        "# Note about comparing overlapping shapes: we prefer the bigger (area) shape.\r\n",
        "\r\n",
        "def insert_circle(scale, center, radius, cover):\r\n",
        "    to_be_remove = []\r\n",
        "    \r\n",
        "    for index in range(len(circles_center)):\r\n",
        "        if overlapping_circles(center, radius, circles_center[index], circles_radius[index]):\r\n",
        "            if round(cover, significant_digits) >= round(circles_cover[index], significant_digits):\r\n",
        "                # We found a circle that is worst than the current one\r\n",
        "                # Note: we also include equal here, we chose to remove because\r\n",
        "                # we iterate from smallest radius to biggest, and the current one\r\n",
        "                # will also be bigger or equal than those in circles_radius,\r\n",
        "                # so we prefer the bigger radius if possible.\r\n",
        "                to_be_remove.append(index)\r\n",
        "            else:\r\n",
        "                # We found a circle better than the current one,\r\n",
        "                # no need to remove to_be_remove and no need to add current.\r\n",
        "                return\r\n",
        "    \r\n",
        "    for index in reversed(to_be_remove):\r\n",
        "        del circles_center[index]\r\n",
        "        del circles_radius[index]\r\n",
        "        del circles_cover [index]\r\n",
        "        del circles_scale [index]\r\n",
        "    \r\n",
        "    circles_center.append(center)\r\n",
        "    circles_radius.append(radius)\r\n",
        "    circles_cover.append(cover)\r\n",
        "    circles_scale.append(scale)\r\n",
        "\r\n",
        "\r\n",
        "y_max, x_max = edges.shape\r\n",
        "\r\n",
        "# Detecting Circles\r\n",
        "radius = 25 # Minimum radius that will be checked\r\n",
        "# TODO: choose a dynamic min_radius according to the original image size\r\n",
        "\r\n",
        "# Creating the circle's kernel\r\n",
        "kernel_size = (2 * radius) + 1\r\n",
        "kernel_center = int(kernel_size/2)\r\n",
        "kernel = cv2.circle(\r\n",
        "            np.zeros((kernel_size, kernel_size)),\r\n",
        "            (kernel_center, kernel_center),\r\n",
        "            radius,\r\n",
        "            color=1,\r\n",
        "            thickness=1)\r\n",
        "y_max_ker, x_max_ker = kernel.shape\r\n",
        "\r\n",
        "# Calculating the circumferences of each circle\r\n",
        "unique, counts = np.unique(kernel, return_counts=True)\r\n",
        "zero_one_dict = dict(zip(unique, counts))\r\n",
        "circumference = zero_one_dict[1]\r\n",
        "# Note: this isn't equal to 2*math.pi*radius\r\n",
        "\r\n",
        "# Max radius that can be found in the image: round(min(y_max,x_max) / 2)\r\n",
        "# So we need to scale kernel by: round(min(y_max,x_max) / 2) / radius\r\n",
        "# So we need to scale the img by: 1 / (round(min(y_max,x_max) / 2) / radius)\r\n",
        "max_scale = radius / round(min(y_max, x_max) / 2)\r\n",
        "# Rounding up\r\n",
        "temp = pow(10, interval_digits)\r\n",
        "max_scale = (int(max_scale * temp) + 1) / temp\r\n",
        "\r\n",
        "# Iterating each scale, from biggest to smallest.\r\n",
        "scale = 0.10\r\n",
        "    \r\n",
        "\r\n",
        "# Scaling the image\r\n",
        "x_max_scale = int(x_max * scale)\r\n",
        "y_max_scale = int(y_max * scale)\r\n",
        "dim = (x_max_scale, y_max_scale)\r\n",
        "edges_scale = cv2.resize(edges, dim, interpolation=cv2.INTER_AREA)\r\n",
        "ceiler = lambda x: float(math.ceil(x))\r\n",
        "edges_scale = np.array([ [ceiler(rowCol) for rowCol in row] for row in edges_scale])\r\n",
        "\r\n",
        "# Compute the accumulator for each possible radius\r\n",
        "hough = signal.convolve2d(edges_scale, kernel, mode='valid')\r\n",
        "\r\n",
        "circumference_scale = circumference * scale\r\n",
        "\r\n",
        "# Seaching for circles in current hough\r\n",
        "reverse_scale = 1 / scale\r\n",
        "y_dim,     x_dim     = hough.shape # getting smaller and smaller with each iteration\r\n",
        "y_move = getImgIndex(y_max_ker)\r\n",
        "x_move = getImgIndex(x_max_ker)\r\n",
        "for y in range(y_dim):\r\n",
        "    for x in range(x_dim):\r\n",
        "        cover = hough[y][x] / circumference\r\n",
        "        if cover > threshold:\r\n",
        "                if ((y_move+y) * reverse_scale, (x_move+x) * reverse_scale) == ( 36.363636363636360, 36.363636363636360):\r\n",
        "                    print(y,x, (y_move+y), (x_move+x))\r\n",
        "                insert_circle(scale, ((y_move+y) * reverse_scale, (x_move+x) * reverse_scale), radius * reverse_scale, cover)\r\n",
        "\r\n",
        "# Display image\r\n",
        "_, ax = plt.subplots(1, 1, figsize=figsize)\r\n",
        "ax.imshow(edges, cmap='gray')\r\n",
        "ax.set_title(\"Detected Shapes\")\r\n",
        "\r\n",
        "if detect_shapes:\r\n",
        "    # mark the center of the circles by a yellow point\r\n",
        "    ax.plot([tpl[1] for tpl in circles_center], [tpl[0] for tpl in circles_center], 'o', color='yellow')\r\n",
        "    # draw the circumference of the circles in blue\r\n",
        "    for (y, x), radius in zip(circles_center, circles_radius):\r\n",
        "        circ = plt.Circle((x, y), radius, color='yellow', fill=False)\r\n",
        "        ax.add_artist(circ)"
      ],
      "execution_count": 27,
      "outputs": [
        {
          "output_type": "display_data",
          "data": {
            "image/png": "[encoded data removed]",
            "text/plain": [
              "<Figure size 1080x360 with 1 Axes>"
            ]
          },
          "metadata": {
            "tags": [],
            "needs_background": "light"
          }
        }
      ]
    },
    {
      "cell_type": "code",
      "metadata": {
        "colab": {
          "base_uri": "https://localhost:8080/"
        },
        "id": "Qd0Mp_yd4va0",
        "outputId": "4c3a6f2d-1f09-496b-e118-bc897b45aa68"
      },
      "source": [
        "print(\"============================================================================== Circles ==============================================================================\")\r\n",
        "for (y, x), radius, cover, scale in zip(circles_center, circles_radius, circles_cover, circles_scale):\r\n",
        "    print(\"Scale: %.2f\\tCoordinate: (%19.15f,%19.15f)\\tRadius: %19.15f\\tCover: %.52f\" % (scale, y, x, radius, cover))\r\n",
        "\r\n",
        "print(\"============================================================================ Rectangles =============================================================================\")\r\n",
        "for (y, x), width, height, cover, scale in zip(rectangles_center, rectangles_width, rectangles_height, rectangles_cover, rectangles_scale):\r\n",
        "    print(\"Scale: %.2f\\tCoordinate: (%19.15f,%19.15f)\\tWidth: %19.15f\\tHeight: %19.15f\\tCover: %.52f\" % (scale, y, x, width, height, cover))"
      ],
      "execution_count": 28,
      "outputs": [
        {
          "output_type": "stream",
          "text": [
            "============================================================================== Circles ==============================================================================\n",
            "Scale: 0.10\tCoordinate: (450.000000000000000,390.000000000000000)\tRadius: 250.000000000000000\tCover: 0.1071428571428571369095195109366613905876874923706055\n",
            "============================================================================ Rectangles =============================================================================\n"
          ],
          "name": "stdout"
        }
      ]
    },
    {
      "cell_type": "code",
      "metadata": {
        "colab": {
          "base_uri": "https://localhost:8080/"
        },
        "id": "XUqYsYFd5ATi",
        "outputId": "5a4a8bd1-7e1d-4c22-82d4-0b1758d7f757"
      },
      "source": [
        "scale = 0.10\r\n",
        "radius = 25\r\n",
        "reverse_scale = 1 / scale\r\n",
        "print(radius, reverse_scale, radius * reverse_scale)"
      ],
      "execution_count": 43,
      "outputs": [
        {
          "output_type": "stream",
          "text": [
            "25 10.0 250.0\n"
          ],
          "name": "stdout"
        }
      ]
    },
    {
      "cell_type": "code",
      "metadata": {
        "id": "jKD_H7sVAolP"
      },
      "source": [
        "x_max_scale = int(x_max * scale)\r\n",
        "y_max_scale = int(y_max * scale)\r\n",
        "dim = (x_max_scale, y_max_scale)\r\n",
        "edges_scale = cv2.resize(edges, dim, interpolation=cv2.INTER_AREA)\r\n",
        "ceiler = lambda x: float(math.ceil(x))\r\n",
        "edges_scale = np.array([ [ceiler(rowCol) for rowCol in row] for row in edges_scale])"
      ],
      "execution_count": 44,
      "outputs": []
    },
    {
      "cell_type": "code",
      "metadata": {
        "colab": {
          "base_uri": "https://localhost:8080/",
          "height": 353
        },
        "id": "SRZUDWtO5MAh",
        "outputId": "0d7d6b60-d929-4087-8d6a-6d2eeba64c6e"
      },
      "source": [
        "# print(edges_scale)\r\n",
        "_, ax = plt.subplots(1, 1, figsize=figsize)\r\n",
        "ax.imshow(edges_scale, cmap='gray')\r\n",
        "ax.set_title(\"Detected Shapes\")"
      ],
      "execution_count": 45,
      "outputs": [
        {
          "output_type": "execute_result",
          "data": {
            "text/plain": [
              "Text(0.5, 1.0, 'Detected Shapes')"
            ]
          },
          "metadata": {
            "tags": []
          },
          "execution_count": 45
        },
        {
          "output_type": "display_data",
          "data": {
            "image/png": "[encoded data removed]",
            "text/plain": [
              "<Figure size 1080x360 with 1 Axes>"
            ]
          },
          "metadata": {
            "tags": [],
            "needs_background": "light"
          }
        }
      ]
    },
    {
      "cell_type": "code",
      "metadata": {
        "id": "jCx1fQrw5L78"
      },
      "source": [
        "print(hough, circumference, circumference_scale)"
      ],
      "execution_count": null,
      "outputs": []
    },
    {
      "cell_type": "code",
      "metadata": {
        "id": "4c5NseET5L20"
      },
      "source": [
        "_, ax = plt.subplots(1, 1, figsize=figsize)\r\n",
        "ax.imshow(hough, cmap='gray')\r\n",
        "ax.set_title(\"Detected Shapes\")"
      ],
      "execution_count": null,
      "outputs": []
    }
  ]
}