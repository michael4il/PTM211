{
  "nbformat": 4,
  "nbformat_minor": 0,
  "metadata": {
    "colab": {
      "name": "Playground-version100.ipynb",
      "provenance": [],
      "collapsed_sections": []
    },
    "kernelspec": {
      "name": "python3",
      "display_name": "Python 3"
    }
  },
  "cells": [
    {
      "cell_type": "code",
      "metadata": {
        "id": "TxsBADlmb2sY"
      },
      "source": [
        "# Imports\r\n",
        "import cv2\r\n",
        "import math\r\n",
        "import numpy as np\r\n",
        "from numpy.linalg import norm\r\n",
        "import matplotlib.pyplot as plt\r\n",
        "from scipy import signal\r\n",
        "import itertools\r\n",
        "\r\n",
        "figsize = (15, 10)\r\n",
        "\r\n",
        "# Print the full NumPy array\r\n",
        "import sys\r\n",
        "np.set_printoptions(threshold=sys.maxsize)"
      ],
      "execution_count": 2,
      "outputs": []
    },
    {
      "cell_type": "code",
      "metadata": {
        "id": "4CdFP4zmaXst"
      },
      "source": [
        "# Note: the centers are (x, y), might need to change it to (y, x) depends on the implementation\r\n",
        "\r\n",
        "# Example input for \"Digital_all_labels.jpg\"\r\n",
        "\r\n",
        "# Input for circles\r\n",
        "circles_center = [(52, 19)]\r\n",
        "circles_radius = [10]\r\n",
        "\r\n",
        "# Input for rectangles\r\n",
        "rectangles_center = [(18, 174), (88, 174)]\r\n",
        "rectangles_width = [21, 21]\r\n",
        "rectangles_height = [21, 21]\r\n",
        "\r\n",
        "# Input for rhombuses\r\n",
        "rhombuses_center = [(54, 96)]\r\n",
        "rhombuses_width = [25]\r\n",
        "rhombuses_height = [25]\r\n",
        "\r\n",
        "# Input for line arrow\r\n",
        "line_arrow_start = [(52, 27), (44, 106)]\r\n",
        "line_arrow_end = [(52, 77), (17, 164)]\r\n",
        "\r\n",
        "# Input for dot arrow\r\n",
        "dot_arrow_start = [(61, 106)]\r\n",
        "dot_arrow_end = [(87, 164)]"
      ],
      "execution_count": 32,
      "outputs": []
    },
    {
      "cell_type": "code",
      "metadata": {
        "colab": {
          "base_uri": "https://localhost:8080/",
          "height": 624
        },
        "id": "D6hrifpxbaJS",
        "outputId": "aa4eb08e-9862-4617-cd5e-c6e64e80aff0"
      },
      "source": [
        "# Showing the example input\r\n",
        "\r\n",
        "# Reading image\r\n",
        "path = \"Digital_all_labels.jpg\"\r\n",
        "img = cv2.imread(path, cv2.IMREAD_GRAYSCALE)\r\n",
        "\r\n",
        "# Display image\r\n",
        "_, ax = plt.subplots(1, 1, figsize=figsize)\r\n",
        "ax.imshow(img, cmap='gray')\r\n",
        "ax.set_title(\"Detected Shapes\")\r\n",
        "\r\n",
        "\r\n",
        "# mark the center of the circles by a yellow point\r\n",
        "ax.plot([tpl[0] for tpl in circles_center],[tpl[1] for tpl in circles_center], 'o', color='yellow')\r\n",
        "# draw the circumference of the circles in yellow\r\n",
        "for center_coordinates, radius in zip(circles_center, circles_radius):\r\n",
        "    circ = plt.Circle(center_coordinates, radius, color='yellow', fill=False)\r\n",
        "    ax.add_artist(circ)\r\n",
        "\r\n",
        "# mark the center of the rectangles by a purple point\r\n",
        "ax.plot([tpl[0] for tpl in rectangles_center],[tpl[1] for tpl in rectangles_center], 'o', color='purple')\r\n",
        "# draw the circumference of the rectangles in purple\r\n",
        "for (y, x), width, height in zip(rectangles_center, rectangles_width, rectangles_height):\r\n",
        "    dx = width/2\r\n",
        "    dy = height/2\r\n",
        "    rect = plt.Rectangle((y-dy,x-dx), width, height, 0.0, color='purple', fill=False)\r\n",
        "    ax.add_artist(rect)\r\n",
        "\r\n",
        "# mark the center of the rhombuses by a orange point\r\n",
        "ax.plot([tpl[0] for tpl in rhombuses_center],[tpl[1] for tpl in rhombuses_center], 'o', color='orange')\r\n",
        "# draw the circumference of the rhombuses in orange\r\n",
        "for (y, x), width, height in zip(rhombuses_center, rhombuses_width, rhombuses_height):\r\n",
        "    half_diagonal = norm([width, height])/2\r\n",
        "    alpha = math.radians(45) + math.atan(height/width)\r\n",
        "    dx = half_diagonal * math.sin(alpha)\r\n",
        "    dy = half_diagonal * math.cos(alpha)\r\n",
        "    rect = plt.Rectangle((y-dy,x-dx), width, height, 45.0, color='orange', fill=False) # 45 degree anti-clockwise\r\n",
        "    ax.add_artist(rect)\r\n",
        "\r\n",
        "# mark the start of the line arrow by a purple point\r\n",
        "ax.plot([tpl[0] for tpl in line_arrow_start],[tpl[1] for tpl in line_arrow_start], 'o', color='green')\r\n",
        "# mark the end of the line arrow by a purple point\r\n",
        "ax.plot([tpl[0] for tpl in line_arrow_end],[tpl[1] for tpl in line_arrow_end], 'o', color='green')\r\n",
        "# mark the start of the dot arrow by a red point\r\n",
        "ax.plot([tpl[0] for tpl in dot_arrow_start],[tpl[1] for tpl in dot_arrow_start], 'o', color='red')\r\n",
        "# mark the end of the dot arrow by a red point\r\n",
        "ax.plot([tpl[0] for tpl in dot_arrow_end],[tpl[1] for tpl in dot_arrow_end], 'o', color='red')"
      ],
      "execution_count": 36,
      "outputs": [
        {
          "output_type": "execute_result",
          "data": {
            "text/plain": [
              "[<matplotlib.lines.Line2D at 0x7f1b08f96ba8>]"
            ]
          },
          "metadata": {
            "tags": []
          },
          "execution_count": 36
        },
        {
          "output_type": "display_data",
          "data": {
            "image/png": "[encoded data removed]",
            "text/plain": [
              "<Figure size 1080x720 with 1 Axes>"
            ]
          },
          "metadata": {
            "tags": [],
            "needs_background": "light"
          }
        }
      ]
    },
    {
      "cell_type": "code",
      "metadata": {
        "id": "vvDn99HJftAA"
      },
      "source": [
        "# Names for the nodes\r\n",
        "prefix_circle = \"Circle_\"\r\n",
        "prefix_rectangle = \"Rectangle_\"\r\n",
        "prefix_rhombus = \"Rhombus_\"\r\n",
        "\r\n",
        "counter_circle = 0\r\n",
        "counter_rectangle = 0\r\n",
        "counter_rhombus = 0\r\n",
        "\r\n",
        "def get_name_circle():\r\n",
        "    global counter_circle\r\n",
        "    result = prefix_circle + str(counter_circle)\r\n",
        "    counter_circle += 1\r\n",
        "    return result\r\n",
        "\r\n",
        "def get_name_rectangle():\r\n",
        "    global counter_rectangle\r\n",
        "    result = prefix_rectangle + str(counter_rectangle)\r\n",
        "    counter_rectangle += 1\r\n",
        "    return result\r\n",
        "\r\n",
        "def get_name_rhombus():\r\n",
        "    global counter_rhombus\r\n",
        "    result = prefix_rhombus + str(counter_rhombus)\r\n",
        "    counter_rhombus += 1\r\n",
        "    return result"
      ],
      "execution_count": 57,
      "outputs": []
    },
    {
      "cell_type": "code",
      "metadata": {
        "id": "mjBj27a9iiFO"
      },
      "source": [
        "# Note: If the point is inside the shape, return 0 distance.\r\n",
        "\r\n",
        "def get_distance_from_point_to_circle_circumference(point_center, circle_center, circle_radius):\r\n",
        "    x1, y1 = point_center\r\n",
        "    x2, y2 = circle_center\r\n",
        "    r      = circle_radius\r\n",
        "\r\n",
        "    dist_from_center = norm([x1 - x2, y1 - y2])\r\n",
        "    return max(0, dist_from_center - r)\r\n",
        "\r\n",
        "def get_distance_from_point_to_rectangle_circumference(point_center, rectangle_center, rectangle_width, rectangle_height):\r\n",
        "    x1, y1 = point_center\r\n",
        "    x2, y2 = rectangle_center\r\n",
        "    w      = rectangle_width\r\n",
        "    h      = rectangle_height\r\n",
        "\r\n",
        "    half_w   = w/2\r\n",
        "    half_h   = h/2\r\n",
        "    left_x   = x2 - half_w\r\n",
        "    right_x  = x2 + half_w\r\n",
        "    bottom_y = y2 - half_h\r\n",
        "    top_y    = y2 + half_h\r\n",
        "\r\n",
        "    is_in_x_axis = (left_x <= x1) and (x1 <= right_x)\r\n",
        "    is_in_y_axis = (bottom_y <= y1) and (y1 <= top_y)\r\n",
        "\r\n",
        "    # Checking if inside the shape\r\n",
        "    if is_in_x_axis and is_in_y_axis:\r\n",
        "        return 0\r\n",
        "    \r\n",
        "    # Finding the distance from each edge\r\n",
        "    temp1 = y1 - top_y\r\n",
        "    temp2 = y1 - bottom_y\r\n",
        "    temp3 = x1 - left_x\r\n",
        "    temp4 = x1 - right_x\r\n",
        "\r\n",
        "    top = 0 # Top edge\r\n",
        "    bottom = 0 # Bottom edge\r\n",
        "    if is_in_x_axis:\r\n",
        "        top    = abs(temp1)\r\n",
        "        bottom = abs(temp2)\r\n",
        "    else:\r\n",
        "        top    = min(norm([temp3, temp1]), norm([temp4, temp1]))\r\n",
        "        bottom = min(norm([temp3, temp2]), norm([temp4, temp2]))\r\n",
        "    \r\n",
        "    left = 0 # Left edge\r\n",
        "    right = 0 # Right edge\r\n",
        "    if is_in_y_axis:\r\n",
        "        left  = abs(temp3)\r\n",
        "        right = abs(temp4)\r\n",
        "    else:\r\n",
        "        left  = min(norm([temp3, temp1]), norm([temp3, temp2]))\r\n",
        "        right = min(norm([temp4, temp1]), norm([temp4, temp2]))\r\n",
        "    \r\n",
        "    # Returning the min distance\r\n",
        "    return min(top, bottom, left, right)\r\n",
        "\r\n",
        "def get_distance_from_point_to_rhombus_circumference(point_center, rhombus_center, rhombus_width, rhombus_height):\r\n",
        "    x1, y1 = point_center\r\n",
        "    x2, y2 = rhombus_center\r\n",
        "    w      = rhombus_width\r\n",
        "    h      = rhombus_height\r\n",
        "\r\n",
        "    # Rotating both points 45 degrees countclock-wise\r\n",
        "    degree = math.radians(45)\r\n",
        "    temp_cos = math.cos(degree)\r\n",
        "    temp_sin = math.sin(degree)\r\n",
        "\r\n",
        "    x1_new = (x1 * temp_cos) - (y1 * temp_sin)\r\n",
        "    y1_new = (x1 * temp_sin) - (y1 * temp_cos)\r\n",
        "\r\n",
        "    x2_new = (x2 * temp_cos) - (y2 * temp_sin)\r\n",
        "    y2_new = (x2 * temp_sin) - (y2 * temp_cos)\r\n",
        "\r\n",
        "    return get_distance_from_point_to_rectangle_circumference((x1_new, y1_new), (x2_new, y2_new), w, h)\r\n",
        "\r\n",
        "def which_shape_this_point_belong_to(point_center):\r\n",
        "    circles_distance = [\r\n",
        "                        get_distance_from_point_to_circle_circumference(point_center, circle_center, circle_radius)\r\n",
        "                        for circle_center, circle_radius in zip(circles_center, circles_radius)\r\n",
        "                       ]\r\n",
        "    circles_min = np.argmin(circles_distance) if not circles_distance else -1\r\n",
        "\r\n",
        "    rectangles_distance = [\r\n",
        "                           get_distance_from_point_to_rectangle_circumference(\r\n",
        "                               point_center,\r\n",
        "                               rectangle_center, rectangle_width, rectangle_height)\r\n",
        "                           for rectangle_center, rectangle_width, rectangle_height\r\n",
        "                           in zip(rectangles_center, rectangles_width, rectangles_height)\r\n",
        "                          ]\r\n",
        "    rectangles_min = np.argmin(rectangles_distance) if not rectangles_distance else -1\r\n",
        "\r\n",
        "    rhombuses_distance = [\r\n",
        "                           get_distance_from_point_to_rhombus_circumference(\r\n",
        "                               point_center,\r\n",
        "                               rhombus_center, rhombus_width, rhombus_height)\r\n",
        "                           for rhombus_center, rhombus_width, rhombus_height\r\n",
        "                           in zip(rhombuses_center, rhombuses_width, rhombuses_height)\r\n",
        "                          ]\r\n",
        "    rhombuses_min = np.argmin(rhombuses_distance) if not rhombuses_distance else -1\r\n",
        "\r\n",
        "    "
      ],
      "execution_count": 107,
      "outputs": []
    },
    {
      "cell_type": "code",
      "metadata": {
        "colab": {
          "base_uri": "https://localhost:8080/"
        },
        "id": "jtbIv_UfE29N",
        "outputId": "8c2cfdda-20bb-4346-e411-eca1c0d919bc"
      },
      "source": [
        "point_center = (52, 27)\r\n",
        "circles_distance = [\r\n",
        "                    x\r\n",
        "                    for x in [1]\r\n",
        "                   ]\r\n",
        "a = circles_distance if not circles_distance else 1\r\n",
        "a"
      ],
      "execution_count": 123,
      "outputs": [
        {
          "output_type": "execute_result",
          "data": {
            "text/plain": [
              "1"
            ]
          },
          "metadata": {
            "tags": []
          },
          "execution_count": 123
        }
      ]
    },
    {
      "cell_type": "code",
      "metadata": {
        "id": "ZuTfqT36mANU"
      },
      "source": [
        "############################################################### TESTS ###############################################################\r\n",
        "print(get_distance_from_point_to_circle_circumference(\r\n",
        "    line_arrow_start[0],\r\n",
        "    circles_center[0],\r\n",
        "    circles_radius[0])) # 0\r\n",
        "print(get_distance_from_point_to_circle_circumference(\r\n",
        "    (52,30),\r\n",
        "    circles_center[0],\r\n",
        "    circles_radius[0])) # 1\r\n",
        "\r\n",
        "print(get_distance_from_point_to_rectangle_circumference(\r\n",
        "    dot_arrow_end[0],\r\n",
        "    rectangles_center[1],\r\n",
        "    rectangles_width[1],\r\n",
        "    rectangles_height[1])) # 0\r\n",
        "print(get_distance_from_point_to_rectangle_circumference(\r\n",
        "    (87, 154),\r\n",
        "    rectangles_center[1],\r\n",
        "    rectangles_width[1],\r\n",
        "    rectangles_height[1])) # 9.5\r\n",
        "print(get_distance_from_point_to_rectangle_circumference(\r\n",
        "    (87, 194),\r\n",
        "    rectangles_center[1],\r\n",
        "    rectangles_width[1],\r\n",
        "    rectangles_height[1])) # 9.5\r\n",
        "print(get_distance_from_point_to_rectangle_circumference(\r\n",
        "    (70, 174),\r\n",
        "    rectangles_center[1],\r\n",
        "    rectangles_width[1],\r\n",
        "    rectangles_height[1])) # 7.5\r\n",
        "print(get_distance_from_point_to_rectangle_circumference(\r\n",
        "    (110, 174),\r\n",
        "    rectangles_center[1],\r\n",
        "    rectangles_width[1],\r\n",
        "    rectangles_height[1])) # 11.5\r\n",
        "print(get_distance_from_point_to_rectangle_circumference(\r\n",
        "    rectangles_center[1],\r\n",
        "    rectangles_center[1],\r\n",
        "    rectangles_width[1],\r\n",
        "    rectangles_height[1])) # 0\r\n",
        "\r\n",
        "print(get_distance_from_point_to_rhombus_circumference(\r\n",
        "    line_arrow_end[0],\r\n",
        "    rhombuses_center[0],\r\n",
        "    rhombuses_width[0],\r\n",
        "    rhombuses_height[0])) # 0 # not quite sure if it's true, too lazy to check"
      ],
      "execution_count": null,
      "outputs": []
    }
  ]
}